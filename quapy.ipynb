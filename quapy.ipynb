{
 "cells": [
  {
   "cell_type": "markdown",
   "id": "7e8c97cd",
   "metadata": {},
   "source": [
    "## Comparison of our Implementation with QuaPy\n",
    "\n",
    "Evaluation will be conducted on LeQua dataset, as provided by the authors of the QuaPy package.\n",
    "\n",
    "To be able to run this notebook, you need to install the ```quapy``` environment as provided in a yml-file in the ```envs``` folder. Further, to generate the plots, it is required to first generate the corresponding results from our ```QFY``` implementation.\n",
    "This can be done from the command line, with the ```quant``` environment required to be active.\n",
    "For the binary setting, one can run\n",
    "```\n",
    "python -m run_lequa -e 1 --modes binary -a CC AC PCC PAC EM HDy TS50 TSX TSMax MS DyS\n",
    "```\n",
    "\n",
    "To obtain the multiclass results, one can run \n",
    "```\n",
    "python -m run_lequa -e 1 --modes multiclass -a CC GAC PCC GPAC EM HDy TS50 TSX TSMax MS DyS\n",
    "```"
   ]
  },
  {
   "cell_type": "code",
   "execution_count": 1,
   "id": "6e6a0a59",
   "metadata": {},
   "outputs": [],
   "source": [
    "import quapy as qp\n",
    "from tqdm import tqdm\n",
    "\n",
    "import seaborn as sns\n",
    "from matplotlib import pyplot as plt\n",
    "\n",
    "from QFY.metrics import calc_eps, AE, RAE, NKLD\n",
    "from helpers import melt_plotting_dataframe\n",
    "from run_lequa import save_dict_to_csv\n",
    "from config import *"
   ]
  },
  {
   "cell_type": "markdown",
   "id": "7cd51072",
   "metadata": {},
   "source": [
    "### Step 1: Run all Methods on LeQua Data\n",
    "\n",
    "We apply the same default base quantifiers as used in our experiments, as exported from ```config.py```, and try to mimick the parameter values as good as possible."
   ]
  },
  {
   "cell_type": "code",
   "execution_count": 2,
   "id": "0f051348",
   "metadata": {},
   "outputs": [
    {
     "name": "stdout",
     "output_type": "stream",
     "text": [
      "[warning] the quantifier seems to be an instance of qp.method.aggregative.AggregativeQuantifier; you might prefer instantiating OneVsAllAggregative\n",
      "[warning] the quantifier seems to be an instance of qp.method.aggregative.AggregativeQuantifier; you might prefer instantiating OneVsAllAggregative\n",
      "[warning] the quantifier seems to be an instance of qp.method.aggregative.AggregativeQuantifier; you might prefer instantiating OneVsAllAggregative\n",
      "[warning] the quantifier seems to be an instance of qp.method.aggregative.AggregativeQuantifier; you might prefer instantiating OneVsAllAggregative\n",
      "[warning] the quantifier seems to be an instance of qp.method.aggregative.AggregativeQuantifier; you might prefer instantiating OneVsAllAggregative\n",
      "[warning] the quantifier seems to be an instance of qp.method.aggregative.AggregativeQuantifier; you might prefer instantiating OneVsAllAggregative\n"
     ]
    }
   ],
   "source": [
    "# here we initialize all QuaPy methods used in this comparison\n",
    "\n",
    "quapy_dict = {\n",
    "    \"binary\": { \"CC\": qp.method.aggregative.CC(classifier=clone(DEFAULT_PARAMS_LOGISTIC_REGRESSOR)),\n",
    "                \"AC\": qp.method.aggregative.ACC(classifier=clone(DEFAULT_PARAMS_LOGISTIC_REGRESSOR), val_split=10),\n",
    "                \"PCC\": qp.method.aggregative.PCC(classifier=clone(DEFAULT_PARAMS_LOGISTIC_REGRESSOR)),\n",
    "                \"PAC\": qp.method.aggregative.PACC(classifier=clone(DEFAULT_PARAMS_LOGISTIC_REGRESSOR), val_split=10),\n",
    "                \"EM\": qp.method.aggregative.EMQ(classifier=clone(DEFAULT_PARAMS_LOGISTIC_REGRESSOR)),\n",
    "                \"HDy\": qp.method.aggregative.HDy(classifier=clone(DEFAULT_PARAMS_LOGISTIC_REGRESSOR)),\n",
    "                \"TS50\": qp.method.aggregative.T50(classifier=clone(DEFAULT_PARAMS_LOGISTIC_REGRESSOR)),\n",
    "                \"TSX\": qp.method.aggregative.X(classifier=clone(DEFAULT_PARAMS_LOGISTIC_REGRESSOR), val_split=10),\n",
    "                \"TSMax\": qp.method.aggregative.MAX(classifier=clone(DEFAULT_PARAMS_LOGISTIC_REGRESSOR), val_split=10),\n",
    "                \"MS\": qp.method.aggregative.MS2(classifier=clone(DEFAULT_PARAMS_LOGISTIC_REGRESSOR), val_split=10),\n",
    "                \"DyS\": qp.method.aggregative.DyS(classifier=clone(DEFAULT_PARAMS_LOGISTIC_REGRESSOR), n_bins=10, divergence=\"topsoe\"), \n",
    "              },\n",
    "    \"multiclass\": { \"CC\": qp.method.aggregative.CC(classifier=clone(DEFAULT_PARAMS_LOGISTIC_REGRESSOR)),\n",
    "                    \"GAC\": qp.method.aggregative.ACC(classifier=clone(DEFAULT_PARAMS_LOGISTIC_REGRESSOR), val_split=10),\n",
    "                    \"PCC\": qp.method.aggregative.PCC(classifier=clone(DEFAULT_PARAMS_LOGISTIC_REGRESSOR)),\n",
    "                    \"GPAC\": qp.method.aggregative.PACC(classifier=clone(DEFAULT_PARAMS_LOGISTIC_REGRESSOR), val_split=10),\n",
    "                    \"EM\": qp.method.aggregative.EMQ(classifier=clone(DEFAULT_PARAMS_LOGISTIC_REGRESSOR)),\n",
    "                    \"HDy\": qp.method.base.OneVsAllGeneric(qp.method.aggregative.HDy(classifier=clone(DEFAULT_PARAMS_LOGISTIC_REGRESSOR))),\n",
    "                    \"TS50\": qp.method.base.OneVsAllGeneric(qp.method.aggregative.T50(classifier=clone(DEFAULT_PARAMS_LOGISTIC_REGRESSOR))),\n",
    "                    \"TSX\": qp.method.base.OneVsAllGeneric(qp.method.aggregative.X(classifier=clone(DEFAULT_PARAMS_LOGISTIC_REGRESSOR), val_split=10)),\n",
    "                    \"TSMax\": qp.method.base.OneVsAllGeneric(qp.method.aggregative.MAX(classifier=clone(DEFAULT_PARAMS_LOGISTIC_REGRESSOR), val_split=10)),\n",
    "                    \"MS\": qp.method.base.OneVsAllGeneric(qp.method.aggregative.MS2(classifier=clone(DEFAULT_PARAMS_LOGISTIC_REGRESSOR), val_split=10)),\n",
    "                    \"DyS\": qp.method.base.OneVsAllGeneric(qp.method.aggregative.DyS(classifier=clone(DEFAULT_PARAMS_LOGISTIC_REGRESSOR), n_bins=10, divergence=\"topsoe\")), \n",
    "              },\n",
    "}"
   ]
  },
  {
   "cell_type": "code",
   "execution_count": 3,
   "id": "4e0be7d4",
   "metadata": {},
   "outputs": [],
   "source": [
    "# function to run all desired quantifiers on LeQua data - adapted from run_main_experiments function in run_lequa.py\n",
    "\n",
    "def run_quapy(quantifiers=None, mode=\"binary\", seed=LEQUA_MAIN_SEED):\n",
    "    \n",
    "    if quantifiers is None:\n",
    "        quantifiers = list(quapy_dict[mode].keys())\n",
    "\n",
    "    for str_qf in quantifiers:\n",
    "\n",
    "        print(f\"Apply {str_qf} with default parameters on {mode} lequa data\")\n",
    "\n",
    "        curr_dict = quantify_lequa_quapy(quapy_dict[mode][str_qf], mode=mode, seed=seed)\n",
    "        curr_key = f\"{str_qf}-QuaPy\"\n",
    "        save_dict_to_csv(curr_dict, curr_key, mode)"
   ]
  },
  {
   "cell_type": "code",
   "execution_count": 4,
   "id": "02738341",
   "metadata": {},
   "outputs": [],
   "source": [
    "# function to run singlge quantifier on LeQua data - adapted from quantify_lequa function in run_lequa.py\n",
    "\n",
    "def quantify_lequa_quapy(qf, mode, seed):\n",
    "    np.random.seed(seed)\n",
    "\n",
    "    data_dict = LEQUA_DATA_DICT[mode]\n",
    "    train_df = pd.read_csv(LEQUA_DATA_DICT[mode][LEQUA_DATA_DICT_TRAIN_DATA_PATH_KEY])\n",
    "    X_train = train_df.iloc[:, 1:].to_numpy()\n",
    "    y_train = train_df.label.to_numpy()\n",
    "    train_data = qp.data.LabelledCollection(instances=X_train, \n",
    "                                            labels=y_train)\n",
    "\n",
    "    Y_true = pd.read_csv(data_dict[LEQUA_DATA_DICT_TEST_PREVALENCES_PATH_KEY], index_col=0)\n",
    "    test_path = data_dict[LEQUA_DATA_DICT_TEST_DATA_PATH_KEY]\n",
    "\n",
    "    sample_size = data_dict[LEQUA_DATA_DICT_SAMPLE_SIZE_KEY]\n",
    "\n",
    "    res_dict = dict({\"qf\": qf})\n",
    "    res_dict[\"predictions\"] = []\n",
    "    res_dict[\"AE\"] = []\n",
    "    res_dict[\"RAE\"] = []\n",
    "    res_dict[\"NKLD\"] = []\n",
    "    \n",
    "    qf.fit(train_data)\n",
    "\n",
    "    # apply quantifiers on test data\n",
    "    for i in tqdm(range(len(Y_true))):\n",
    "        fname = f\"{test_path}/{i}.txt\"\n",
    "\n",
    "        X_test = pd.read_csv(fname).to_numpy()\n",
    "\n",
    "        y_true = Y_true.iloc[i].to_numpy()\n",
    "        y_pred = qf.quantify(X_test)\n",
    "\n",
    "        res_dict[\"predictions\"].append(y_pred)\n",
    "        res_dict[\"AE\"].append(AE(y_true, y_pred))\n",
    "        res_dict[\"RAE\"].append(RAE(y_true, y_pred, eps=calc_eps(sample_size)))\n",
    "        res_dict[\"NKLD\"].append(NKLD(y_true, y_pred, eps=calc_eps(sample_size)))\n",
    "        \n",
    "    return res_dict"
   ]
  },
  {
   "cell_type": "markdown",
   "id": "a30c6f24",
   "metadata": {},
   "source": [
    "The next cell will run all quantifiers as implemented in QuaPy on the LeQua data - **this will take a while**"
   ]
  },
  {
   "cell_type": "code",
   "execution_count": 9,
   "id": "1373391c",
   "metadata": {},
   "outputs": [
    {
     "name": "stdout",
     "output_type": "stream",
     "text": [
      "Apply CC with default parameters on binary lequa data\n"
     ]
    },
    {
     "name": "stderr",
     "output_type": "stream",
     "text": [
      "100%|██████████| 5000/5000 [01:26<00:00, 58.07it/s]\n"
     ]
    },
    {
     "name": "stdout",
     "output_type": "stream",
     "text": [
      "Apply AC with default parameters on binary lequa data\n"
     ]
    },
    {
     "name": "stderr",
     "output_type": "stream",
     "text": [
      "100%|██████████| 5000/5000 [01:38<00:00, 50.77it/s]\n"
     ]
    },
    {
     "name": "stdout",
     "output_type": "stream",
     "text": [
      "Apply PCC with default parameters on binary lequa data\n"
     ]
    },
    {
     "name": "stderr",
     "output_type": "stream",
     "text": [
      "100%|██████████| 5000/5000 [01:24<00:00, 58.87it/s]\n"
     ]
    },
    {
     "name": "stdout",
     "output_type": "stream",
     "text": [
      "Apply PAC with default parameters on binary lequa data\n"
     ]
    },
    {
     "name": "stderr",
     "output_type": "stream",
     "text": [
      "100%|██████████| 5000/5000 [01:38<00:00, 50.76it/s]\n"
     ]
    },
    {
     "name": "stdout",
     "output_type": "stream",
     "text": [
      "Apply EM with default parameters on binary lequa data\n"
     ]
    },
    {
     "name": "stderr",
     "output_type": "stream",
     "text": [
      "100%|██████████| 5000/5000 [01:26<00:00, 57.51it/s]\n"
     ]
    },
    {
     "name": "stdout",
     "output_type": "stream",
     "text": [
      "Apply HDy with default parameters on binary lequa data\n"
     ]
    },
    {
     "name": "stderr",
     "output_type": "stream",
     "text": [
      "100%|██████████| 5000/5000 [02:29<00:00, 33.35it/s]\n"
     ]
    },
    {
     "name": "stdout",
     "output_type": "stream",
     "text": [
      "Apply TS50 with default parameters on binary lequa data\n"
     ]
    },
    {
     "name": "stderr",
     "output_type": "stream",
     "text": [
      "100%|██████████| 5000/5000 [01:25<00:00, 58.76it/s]\n"
     ]
    },
    {
     "name": "stdout",
     "output_type": "stream",
     "text": [
      "Apply TSX with default parameters on binary lequa data\n"
     ]
    },
    {
     "name": "stderr",
     "output_type": "stream",
     "text": [
      "100%|██████████| 5000/5000 [01:20<00:00, 62.11it/s]\n"
     ]
    },
    {
     "name": "stdout",
     "output_type": "stream",
     "text": [
      "Apply TSMax with default parameters on binary lequa data\n"
     ]
    },
    {
     "name": "stderr",
     "output_type": "stream",
     "text": [
      "100%|██████████| 5000/5000 [01:20<00:00, 62.10it/s]\n"
     ]
    },
    {
     "name": "stdout",
     "output_type": "stream",
     "text": [
      "Apply MS with default parameters on binary lequa data\n"
     ]
    },
    {
     "name": "stderr",
     "output_type": "stream",
     "text": [
      "100%|██████████| 5000/5000 [01:27<00:00, 57.21it/s]\n"
     ]
    },
    {
     "name": "stdout",
     "output_type": "stream",
     "text": [
      "Apply DyS with default parameters on binary lequa data\n"
     ]
    },
    {
     "name": "stderr",
     "output_type": "stream",
     "text": [
      "100%|██████████| 5000/5000 [01:27<00:00, 57.12it/s]\n"
     ]
    }
   ],
   "source": [
    "run_quapy(mode=\"binary\")"
   ]
  },
  {
   "cell_type": "code",
   "execution_count": 10,
   "id": "f91391c1",
   "metadata": {},
   "outputs": [
    {
     "name": "stdout",
     "output_type": "stream",
     "text": [
      "Apply CC with default parameters on multiclass lequa data\n"
     ]
    },
    {
     "name": "stderr",
     "output_type": "stream",
     "text": [
      "C:\\Users\\Tobias\\anaconda3\\envs\\quapy\\lib\\site-packages\\sklearn\\linear_model\\_logistic.py:458: ConvergenceWarning: lbfgs failed to converge (status=1):\n",
      "STOP: TOTAL NO. of ITERATIONS REACHED LIMIT.\n",
      "\n",
      "Increase the number of iterations (max_iter) or scale the data as shown in:\n",
      "    https://scikit-learn.org/stable/modules/preprocessing.html\n",
      "Please also refer to the documentation for alternative solver options:\n",
      "    https://scikit-learn.org/stable/modules/linear_model.html#logistic-regression\n",
      "  n_iter_i = _check_optimize_result(\n",
      "100%|██████████| 5000/5000 [03:31<00:00, 23.69it/s]\n"
     ]
    },
    {
     "name": "stdout",
     "output_type": "stream",
     "text": [
      "Apply GAC with default parameters on multiclass lequa data\n"
     ]
    },
    {
     "name": "stderr",
     "output_type": "stream",
     "text": [
      "C:\\Users\\Tobias\\anaconda3\\envs\\quapy\\lib\\site-packages\\sklearn\\linear_model\\_logistic.py:458: ConvergenceWarning: lbfgs failed to converge (status=1):\n",
      "STOP: TOTAL NO. of ITERATIONS REACHED LIMIT.\n",
      "\n",
      "Increase the number of iterations (max_iter) or scale the data as shown in:\n",
      "    https://scikit-learn.org/stable/modules/preprocessing.html\n",
      "Please also refer to the documentation for alternative solver options:\n",
      "    https://scikit-learn.org/stable/modules/linear_model.html#logistic-regression\n",
      "  n_iter_i = _check_optimize_result(\n",
      "C:\\Users\\Tobias\\anaconda3\\envs\\quapy\\lib\\site-packages\\sklearn\\linear_model\\_logistic.py:458: ConvergenceWarning: lbfgs failed to converge (status=1):\n",
      "STOP: TOTAL NO. of ITERATIONS REACHED LIMIT.\n",
      "\n",
      "Increase the number of iterations (max_iter) or scale the data as shown in:\n",
      "    https://scikit-learn.org/stable/modules/preprocessing.html\n",
      "Please also refer to the documentation for alternative solver options:\n",
      "    https://scikit-learn.org/stable/modules/linear_model.html#logistic-regression\n",
      "  n_iter_i = _check_optimize_result(\n",
      "C:\\Users\\Tobias\\anaconda3\\envs\\quapy\\lib\\site-packages\\sklearn\\linear_model\\_logistic.py:458: ConvergenceWarning: lbfgs failed to converge (status=1):\n",
      "STOP: TOTAL NO. of ITERATIONS REACHED LIMIT.\n",
      "\n",
      "Increase the number of iterations (max_iter) or scale the data as shown in:\n",
      "    https://scikit-learn.org/stable/modules/preprocessing.html\n",
      "Please also refer to the documentation for alternative solver options:\n",
      "    https://scikit-learn.org/stable/modules/linear_model.html#logistic-regression\n",
      "  n_iter_i = _check_optimize_result(\n",
      "C:\\Users\\Tobias\\anaconda3\\envs\\quapy\\lib\\site-packages\\sklearn\\linear_model\\_logistic.py:458: ConvergenceWarning: lbfgs failed to converge (status=1):\n",
      "STOP: TOTAL NO. of ITERATIONS REACHED LIMIT.\n",
      "\n",
      "Increase the number of iterations (max_iter) or scale the data as shown in:\n",
      "    https://scikit-learn.org/stable/modules/preprocessing.html\n",
      "Please also refer to the documentation for alternative solver options:\n",
      "    https://scikit-learn.org/stable/modules/linear_model.html#logistic-regression\n",
      "  n_iter_i = _check_optimize_result(\n",
      "C:\\Users\\Tobias\\anaconda3\\envs\\quapy\\lib\\site-packages\\sklearn\\linear_model\\_logistic.py:458: ConvergenceWarning: lbfgs failed to converge (status=1):\n",
      "STOP: TOTAL NO. of ITERATIONS REACHED LIMIT.\n",
      "\n",
      "Increase the number of iterations (max_iter) or scale the data as shown in:\n",
      "    https://scikit-learn.org/stable/modules/preprocessing.html\n",
      "Please also refer to the documentation for alternative solver options:\n",
      "    https://scikit-learn.org/stable/modules/linear_model.html#logistic-regression\n",
      "  n_iter_i = _check_optimize_result(\n",
      "C:\\Users\\Tobias\\anaconda3\\envs\\quapy\\lib\\site-packages\\sklearn\\linear_model\\_logistic.py:458: ConvergenceWarning: lbfgs failed to converge (status=1):\n",
      "STOP: TOTAL NO. of ITERATIONS REACHED LIMIT.\n",
      "\n",
      "Increase the number of iterations (max_iter) or scale the data as shown in:\n",
      "    https://scikit-learn.org/stable/modules/preprocessing.html\n",
      "Please also refer to the documentation for alternative solver options:\n",
      "    https://scikit-learn.org/stable/modules/linear_model.html#logistic-regression\n",
      "  n_iter_i = _check_optimize_result(\n",
      "C:\\Users\\Tobias\\anaconda3\\envs\\quapy\\lib\\site-packages\\sklearn\\linear_model\\_logistic.py:458: ConvergenceWarning: lbfgs failed to converge (status=1):\n",
      "STOP: TOTAL NO. of ITERATIONS REACHED LIMIT.\n",
      "\n",
      "Increase the number of iterations (max_iter) or scale the data as shown in:\n",
      "    https://scikit-learn.org/stable/modules/preprocessing.html\n",
      "Please also refer to the documentation for alternative solver options:\n",
      "    https://scikit-learn.org/stable/modules/linear_model.html#logistic-regression\n",
      "  n_iter_i = _check_optimize_result(\n",
      "C:\\Users\\Tobias\\anaconda3\\envs\\quapy\\lib\\site-packages\\sklearn\\linear_model\\_logistic.py:458: ConvergenceWarning: lbfgs failed to converge (status=1):\n",
      "STOP: TOTAL NO. of ITERATIONS REACHED LIMIT.\n",
      "\n",
      "Increase the number of iterations (max_iter) or scale the data as shown in:\n",
      "    https://scikit-learn.org/stable/modules/preprocessing.html\n",
      "Please also refer to the documentation for alternative solver options:\n",
      "    https://scikit-learn.org/stable/modules/linear_model.html#logistic-regression\n",
      "  n_iter_i = _check_optimize_result(\n",
      "C:\\Users\\Tobias\\anaconda3\\envs\\quapy\\lib\\site-packages\\sklearn\\linear_model\\_logistic.py:458: ConvergenceWarning: lbfgs failed to converge (status=1):\n",
      "STOP: TOTAL NO. of ITERATIONS REACHED LIMIT.\n",
      "\n",
      "Increase the number of iterations (max_iter) or scale the data as shown in:\n",
      "    https://scikit-learn.org/stable/modules/preprocessing.html\n",
      "Please also refer to the documentation for alternative solver options:\n",
      "    https://scikit-learn.org/stable/modules/linear_model.html#logistic-regression\n",
      "  n_iter_i = _check_optimize_result(\n",
      "C:\\Users\\Tobias\\anaconda3\\envs\\quapy\\lib\\site-packages\\sklearn\\linear_model\\_logistic.py:458: ConvergenceWarning: lbfgs failed to converge (status=1):\n",
      "STOP: TOTAL NO. of ITERATIONS REACHED LIMIT.\n",
      "\n",
      "Increase the number of iterations (max_iter) or scale the data as shown in:\n",
      "    https://scikit-learn.org/stable/modules/preprocessing.html\n",
      "Please also refer to the documentation for alternative solver options:\n",
      "    https://scikit-learn.org/stable/modules/linear_model.html#logistic-regression\n",
      "  n_iter_i = _check_optimize_result(\n",
      "100%|██████████| 5000/5000 [06:32<00:00, 12.75it/s]\n"
     ]
    },
    {
     "name": "stdout",
     "output_type": "stream",
     "text": [
      "Apply PCC with default parameters on multiclass lequa data\n"
     ]
    },
    {
     "name": "stderr",
     "output_type": "stream",
     "text": [
      "C:\\Users\\Tobias\\anaconda3\\envs\\quapy\\lib\\site-packages\\sklearn\\linear_model\\_logistic.py:458: ConvergenceWarning: lbfgs failed to converge (status=1):\n",
      "STOP: TOTAL NO. of ITERATIONS REACHED LIMIT.\n",
      "\n",
      "Increase the number of iterations (max_iter) or scale the data as shown in:\n",
      "    https://scikit-learn.org/stable/modules/preprocessing.html\n",
      "Please also refer to the documentation for alternative solver options:\n",
      "    https://scikit-learn.org/stable/modules/linear_model.html#logistic-regression\n",
      "  n_iter_i = _check_optimize_result(\n",
      "100%|██████████| 5000/5000 [03:27<00:00, 24.12it/s]\n"
     ]
    },
    {
     "name": "stdout",
     "output_type": "stream",
     "text": [
      "Apply GPAC with default parameters on multiclass lequa data\n"
     ]
    },
    {
     "name": "stderr",
     "output_type": "stream",
     "text": [
      "C:\\Users\\Tobias\\anaconda3\\envs\\quapy\\lib\\site-packages\\sklearn\\linear_model\\_logistic.py:458: ConvergenceWarning: lbfgs failed to converge (status=1):\n",
      "STOP: TOTAL NO. of ITERATIONS REACHED LIMIT.\n",
      "\n",
      "Increase the number of iterations (max_iter) or scale the data as shown in:\n",
      "    https://scikit-learn.org/stable/modules/preprocessing.html\n",
      "Please also refer to the documentation for alternative solver options:\n",
      "    https://scikit-learn.org/stable/modules/linear_model.html#logistic-regression\n",
      "  n_iter_i = _check_optimize_result(\n",
      "C:\\Users\\Tobias\\anaconda3\\envs\\quapy\\lib\\site-packages\\sklearn\\linear_model\\_logistic.py:458: ConvergenceWarning: lbfgs failed to converge (status=1):\n",
      "STOP: TOTAL NO. of ITERATIONS REACHED LIMIT.\n",
      "\n",
      "Increase the number of iterations (max_iter) or scale the data as shown in:\n",
      "    https://scikit-learn.org/stable/modules/preprocessing.html\n",
      "Please also refer to the documentation for alternative solver options:\n",
      "    https://scikit-learn.org/stable/modules/linear_model.html#logistic-regression\n",
      "  n_iter_i = _check_optimize_result(\n",
      "C:\\Users\\Tobias\\anaconda3\\envs\\quapy\\lib\\site-packages\\sklearn\\linear_model\\_logistic.py:458: ConvergenceWarning: lbfgs failed to converge (status=1):\n",
      "STOP: TOTAL NO. of ITERATIONS REACHED LIMIT.\n",
      "\n",
      "Increase the number of iterations (max_iter) or scale the data as shown in:\n",
      "    https://scikit-learn.org/stable/modules/preprocessing.html\n",
      "Please also refer to the documentation for alternative solver options:\n",
      "    https://scikit-learn.org/stable/modules/linear_model.html#logistic-regression\n",
      "  n_iter_i = _check_optimize_result(\n",
      "C:\\Users\\Tobias\\anaconda3\\envs\\quapy\\lib\\site-packages\\sklearn\\linear_model\\_logistic.py:458: ConvergenceWarning: lbfgs failed to converge (status=1):\n",
      "STOP: TOTAL NO. of ITERATIONS REACHED LIMIT.\n",
      "\n",
      "Increase the number of iterations (max_iter) or scale the data as shown in:\n",
      "    https://scikit-learn.org/stable/modules/preprocessing.html\n",
      "Please also refer to the documentation for alternative solver options:\n",
      "    https://scikit-learn.org/stable/modules/linear_model.html#logistic-regression\n",
      "  n_iter_i = _check_optimize_result(\n",
      "C:\\Users\\Tobias\\anaconda3\\envs\\quapy\\lib\\site-packages\\sklearn\\linear_model\\_logistic.py:458: ConvergenceWarning: lbfgs failed to converge (status=1):\n",
      "STOP: TOTAL NO. of ITERATIONS REACHED LIMIT.\n",
      "\n",
      "Increase the number of iterations (max_iter) or scale the data as shown in:\n",
      "    https://scikit-learn.org/stable/modules/preprocessing.html\n",
      "Please also refer to the documentation for alternative solver options:\n",
      "    https://scikit-learn.org/stable/modules/linear_model.html#logistic-regression\n",
      "  n_iter_i = _check_optimize_result(\n",
      "C:\\Users\\Tobias\\anaconda3\\envs\\quapy\\lib\\site-packages\\sklearn\\linear_model\\_logistic.py:458: ConvergenceWarning: lbfgs failed to converge (status=1):\n",
      "STOP: TOTAL NO. of ITERATIONS REACHED LIMIT.\n",
      "\n",
      "Increase the number of iterations (max_iter) or scale the data as shown in:\n",
      "    https://scikit-learn.org/stable/modules/preprocessing.html\n",
      "Please also refer to the documentation for alternative solver options:\n",
      "    https://scikit-learn.org/stable/modules/linear_model.html#logistic-regression\n",
      "  n_iter_i = _check_optimize_result(\n",
      "C:\\Users\\Tobias\\anaconda3\\envs\\quapy\\lib\\site-packages\\sklearn\\linear_model\\_logistic.py:458: ConvergenceWarning: lbfgs failed to converge (status=1):\n",
      "STOP: TOTAL NO. of ITERATIONS REACHED LIMIT.\n",
      "\n",
      "Increase the number of iterations (max_iter) or scale the data as shown in:\n",
      "    https://scikit-learn.org/stable/modules/preprocessing.html\n",
      "Please also refer to the documentation for alternative solver options:\n",
      "    https://scikit-learn.org/stable/modules/linear_model.html#logistic-regression\n",
      "  n_iter_i = _check_optimize_result(\n",
      "C:\\Users\\Tobias\\anaconda3\\envs\\quapy\\lib\\site-packages\\sklearn\\linear_model\\_logistic.py:458: ConvergenceWarning: lbfgs failed to converge (status=1):\n",
      "STOP: TOTAL NO. of ITERATIONS REACHED LIMIT.\n",
      "\n",
      "Increase the number of iterations (max_iter) or scale the data as shown in:\n",
      "    https://scikit-learn.org/stable/modules/preprocessing.html\n",
      "Please also refer to the documentation for alternative solver options:\n",
      "    https://scikit-learn.org/stable/modules/linear_model.html#logistic-regression\n",
      "  n_iter_i = _check_optimize_result(\n",
      "C:\\Users\\Tobias\\anaconda3\\envs\\quapy\\lib\\site-packages\\sklearn\\linear_model\\_logistic.py:458: ConvergenceWarning: lbfgs failed to converge (status=1):\n",
      "STOP: TOTAL NO. of ITERATIONS REACHED LIMIT.\n",
      "\n",
      "Increase the number of iterations (max_iter) or scale the data as shown in:\n",
      "    https://scikit-learn.org/stable/modules/preprocessing.html\n",
      "Please also refer to the documentation for alternative solver options:\n",
      "    https://scikit-learn.org/stable/modules/linear_model.html#logistic-regression\n",
      "  n_iter_i = _check_optimize_result(\n",
      "C:\\Users\\Tobias\\anaconda3\\envs\\quapy\\lib\\site-packages\\sklearn\\linear_model\\_logistic.py:458: ConvergenceWarning: lbfgs failed to converge (status=1):\n",
      "STOP: TOTAL NO. of ITERATIONS REACHED LIMIT.\n",
      "\n",
      "Increase the number of iterations (max_iter) or scale the data as shown in:\n",
      "    https://scikit-learn.org/stable/modules/preprocessing.html\n",
      "Please also refer to the documentation for alternative solver options:\n",
      "    https://scikit-learn.org/stable/modules/linear_model.html#logistic-regression\n",
      "  n_iter_i = _check_optimize_result(\n",
      "100%|██████████| 5000/5000 [06:44<00:00, 12.37it/s]\n"
     ]
    },
    {
     "name": "stdout",
     "output_type": "stream",
     "text": [
      "Apply EM with default parameters on multiclass lequa data\n"
     ]
    },
    {
     "name": "stderr",
     "output_type": "stream",
     "text": [
      "C:\\Users\\Tobias\\anaconda3\\envs\\quapy\\lib\\site-packages\\sklearn\\linear_model\\_logistic.py:458: ConvergenceWarning: lbfgs failed to converge (status=1):\n",
      "STOP: TOTAL NO. of ITERATIONS REACHED LIMIT.\n",
      "\n",
      "Increase the number of iterations (max_iter) or scale the data as shown in:\n",
      "    https://scikit-learn.org/stable/modules/preprocessing.html\n",
      "Please also refer to the documentation for alternative solver options:\n",
      "    https://scikit-learn.org/stable/modules/linear_model.html#logistic-regression\n",
      "  n_iter_i = _check_optimize_result(\n",
      "100%|██████████| 5000/5000 [03:33<00:00, 23.37it/s]\n"
     ]
    },
    {
     "name": "stdout",
     "output_type": "stream",
     "text": [
      "Apply HDy with default parameters on multiclass lequa data\n"
     ]
    },
    {
     "name": "stderr",
     "output_type": "stream",
     "text": [
      "100%|██████████| 5000/5000 [34:28<00:00,  2.42it/s]\n"
     ]
    },
    {
     "name": "stdout",
     "output_type": "stream",
     "text": [
      "Apply TS50 with default parameters on multiclass lequa data\n"
     ]
    },
    {
     "name": "stderr",
     "output_type": "stream",
     "text": [
      "100%|██████████| 5000/5000 [03:54<00:00, 21.29it/s]\n"
     ]
    },
    {
     "name": "stdout",
     "output_type": "stream",
     "text": [
      "Apply TSX with default parameters on multiclass lequa data\n"
     ]
    },
    {
     "name": "stderr",
     "output_type": "stream",
     "text": [
      "100%|██████████| 5000/5000 [03:55<00:00, 21.23it/s]\n"
     ]
    },
    {
     "name": "stdout",
     "output_type": "stream",
     "text": [
      "Apply TSMax with default parameters on multiclass lequa data\n"
     ]
    },
    {
     "name": "stderr",
     "output_type": "stream",
     "text": [
      "100%|██████████| 5000/5000 [03:54<00:00, 21.32it/s]\n"
     ]
    },
    {
     "name": "stdout",
     "output_type": "stream",
     "text": [
      "Apply MS with default parameters on multiclass lequa data\n"
     ]
    },
    {
     "name": "stderr",
     "output_type": "stream",
     "text": [
      "100%|██████████| 5000/5000 [59:31<00:00,  1.40it/s]\n"
     ]
    },
    {
     "name": "stdout",
     "output_type": "stream",
     "text": [
      "Apply DyS with default parameters on multiclass lequa data\n"
     ]
    },
    {
     "name": "stderr",
     "output_type": "stream",
     "text": [
      "100%|██████████| 5000/5000 [07:03<00:00, 11.80it/s]\n"
     ]
    }
   ],
   "source": [
    "run_quapy(mode=\"multiclass\")"
   ]
  },
  {
   "cell_type": "markdown",
   "id": "bd4be3cd",
   "metadata": {},
   "source": [
    "### Step 2: Collect Results and Plot These\n",
    "\n",
    "First we collect results from runs with QuaPy and our own implementation"
   ]
  },
  {
   "cell_type": "code",
   "execution_count": 5,
   "id": "9d7fe1e4",
   "metadata": {},
   "outputs": [],
   "source": [
    "def collect_quapy_result_data(mode=\"binary\"):\n",
    "\n",
    "    quantifiers = list(quapy_dict[mode].keys())\n",
    "\n",
    "    qfy_res_files = [os.path.join(LEQUA_RESULT_PATH,f\"{str_qf}_{mode}.csv\") for str_qf in quantifiers]\n",
    "    df_qfy = pd.concat([pd.read_csv(fname, index_col=0) for fname in qfy_res_files], axis=1)\n",
    "    df_qfy[\"lib\"]='QFY'\n",
    "\n",
    "    quapy_res_files = [os.path.join(LEQUA_RESULT_PATH, f\"{str_qf}-QuaPy_{mode}.csv\") for str_qf in quantifiers]\n",
    "    \n",
    "    df_quapy = pd.read_csv(quapy_res_files[0], index_col=0)\n",
    "    curr_cols = list(col.replace(\"-QuaPy\",\"\") for col in list(df_quapy))\n",
    "    df_quapy.columns = curr_cols\n",
    "\n",
    "    for fname in quapy_res_files[1:]:\n",
    "        curr_df = pd.read_csv(fname, index_col=0)\n",
    "        curr_cols = list(col.replace(\"-QuaPy\",\"\") for col in list(curr_df))\n",
    "        curr_df.columns = curr_cols\n",
    "        df_quapy = pd.concat([df_quapy, curr_df], axis=1)\n",
    "        \n",
    "    df_quapy[\"lib\"]='QuaPy'\n",
    "\n",
    "\n",
    "    return pd.concat([df_qfy, df_quapy], ignore_index=True)"
   ]
  },
  {
   "cell_type": "code",
   "execution_count": 6,
   "id": "b4013ba8",
   "metadata": {},
   "outputs": [],
   "source": [
    "df_binary = collect_quapy_result_data(\"binary\")\n",
    "df_multiclass = collect_quapy_result_data(\"multiclass\")\n",
    "\n",
    "res_df_dict = {\"binary\": df_binary,\n",
    "               \"multiclass\": df_multiclass,\n",
    "              }"
   ]
  },
  {
   "cell_type": "markdown",
   "id": "743484df",
   "metadata": {},
   "source": [
    "Now we plot the results:"
   ]
  },
  {
   "cell_type": "code",
   "execution_count": 7,
   "id": "e05d85a2",
   "metadata": {},
   "outputs": [],
   "source": [
    "sns.set(**PLOTS_SNS_DEFAULT_PARAMS)"
   ]
  },
  {
   "cell_type": "code",
   "execution_count": 11,
   "id": "976cf312",
   "metadata": {},
   "outputs": [],
   "source": [
    "def boxenplot_quapy(mode=\"binary\", \n",
    "                    measure=\"AE\",\n",
    "                    ylim=(0,2),\n",
    "                    linthresh=0.01, \n",
    "                    linscale=0.25, \n",
    "                    yticks = [0,0.01,0.1,1,2], \n",
    "                    ylabels=None,\n",
    "                    fname=None):\n",
    "\n",
    "    res_df = res_df_dict[mode]\n",
    "    plot_df = melt_plotting_dataframe(res_df, measure, key_cols=[\"lib\"])\n",
    "    ax = sns.boxenplot(x=\"alg\", y=\"value\", showfliers=False,\n",
    "                       hue=\"lib\",\n",
    "                       order = plot_df.groupby(\"alg\").median().value.sort_values().index, \n",
    "                       data=plot_df)\n",
    "    \n",
    "    if ylabels is None:\n",
    "        ylabels = yticks\n",
    "\n",
    "    ax.set_yscale('symlog', linthresh=linthresh, linscale = linscale)\n",
    "    ax.set(ylim=ylim, ylabel = measure, xlabel=None)\n",
    "    plt.xticks(rotation=90)\n",
    "    plt.yticks(ticks=yticks, labels=ylabels,)\n",
    "    plt.axhline(linthresh, color = \"black\", linestyle = '--', lw = 1)\n",
    "    \n",
    "    plt.grid(which='major', axis = 'y')\n",
    "    plt.gcf().subplots_adjust(bottom=0.2)\n",
    "    \n",
    "    lgd = ax.legend(loc='upper center', bbox_to_anchor=(0.5, -0.25),\n",
    "                    fancybox=True, ncol=5)\n",
    "\n",
    "    \n",
    "    if fname is None:\n",
    "        fname = f\"quapy_comparison_{mode}_{measure}\"\n",
    "    plt.savefig(os.path.join(LEQUA_PLOT_PATH, fname), bbox_extra_artists=(lgd,), bbox_inches='tight') \n",
    "    plt.plot()"
   ]
  },
  {
   "cell_type": "code",
   "execution_count": 12,
   "id": "f289c9d3",
   "metadata": {
    "scrolled": true
   },
   "outputs": [
    {
     "name": "stderr",
     "output_type": "stream",
     "text": [
      "C:\\Users\\Tobias\\AppData\\Local\\Temp\\ipykernel_4452\\1930943042.py:14: FutureWarning: The default value of numeric_only in DataFrameGroupBy.median is deprecated. In a future version, numeric_only will default to False. Either specify numeric_only or select only columns which should be valid for the function.\n",
      "  order = plot_df.groupby(\"alg\").median().value.sort_values().index,\n",
      "C:\\Users\\Tobias\\AppData\\Local\\Temp\\ipykernel_4452\\1930943042.py:24: UserWarning: All values for SymLogScale are below linthresh, making it effectively linear. You likely should lower the value of linthresh. \n",
      "  plt.axhline(linthresh, color = \"black\", linestyle = '--', lw = 1)\n"
     ]
    },
    {
     "data": {
      "image/png": "[encoded data removed]",
      "text/plain": [
       "<Figure size 1200x741.641 with 1 Axes>"
      ]
     },
     "metadata": {},
     "output_type": "display_data"
    }
   ],
   "source": [
    "boxenplot_quapy(\"binary\",\n",
    "                measure=\"AE\",\n",
    "                ylim=(0,2),\n",
    "                linthresh=0.01, \n",
    "                linscale=0.25, \n",
    "                yticks = [0,0.01,0.1,1,2], \n",
    "                ylabels=None,\n",
    "                fname=None)"
   ]
  },
  {
   "cell_type": "code",
   "execution_count": 13,
   "id": "3f3c1826",
   "metadata": {},
   "outputs": [
    {
     "name": "stderr",
     "output_type": "stream",
     "text": [
      "C:\\Users\\Tobias\\AppData\\Local\\Temp\\ipykernel_4452\\1930943042.py:14: FutureWarning: The default value of numeric_only in DataFrameGroupBy.median is deprecated. In a future version, numeric_only will default to False. Either specify numeric_only or select only columns which should be valid for the function.\n",
      "  order = plot_df.groupby(\"alg\").median().value.sort_values().index,\n",
      "C:\\Users\\Tobias\\AppData\\Local\\Temp\\ipykernel_4452\\1930943042.py:24: UserWarning: All values for SymLogScale are below linthresh, making it effectively linear. You likely should lower the value of linthresh. \n",
      "  plt.axhline(linthresh, color = \"black\", linestyle = '--', lw = 1)\n"
     ]
    },
    {
     "data": {
      "image/png": "[encoded data removed]",
      "text/plain": [
       "<Figure size 1200x741.641 with 1 Axes>"
      ]
     },
     "metadata": {},
     "output_type": "display_data"
    }
   ],
   "source": [
    "boxenplot_quapy(\"multiclass\",\n",
    "                measure=\"AE\",\n",
    "                ylim=(0,2),\n",
    "                linthresh=0.1, \n",
    "                linscale=0.25, \n",
    "                yticks = [0,0.1,0.1,1,2], \n",
    "                ylabels=None,\n",
    "                fname=None)"
   ]
  }
 ],
 "metadata": {
  "kernelspec": {
   "display_name": "Python 3 (ipykernel)",
   "language": "python",
   "name": "python3"
  },
  "language_info": {
   "codemirror_mode": {
    "name": "ipython",
    "version": 3
   },
   "file_extension": ".py",
   "mimetype": "text/x-python",
   "name": "python",
   "nbconvert_exporter": "python",
   "pygments_lexer": "ipython3",
   "version": "3.9.16"
  }
 },
 "nbformat": 4,
 "nbformat_minor": 5
}
